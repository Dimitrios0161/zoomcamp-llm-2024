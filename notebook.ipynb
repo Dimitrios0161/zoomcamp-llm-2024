{
 "cells": [
  {
   "cell_type": "code",
   "execution_count": 20,
   "metadata": {},
   "outputs": [
    {
     "name": "stdout",
     "output_type": "stream",
     "text": [
      "None\n"
     ]
    }
   ],
   "source": [
    "import os\n",
    "api_key=os.getenv(\"OPENAI_API_KEY\")\n",
    "print(api_key)"
   ]
  },
  {
   "cell_type": "code",
   "execution_count": 17,
   "metadata": {},
   "outputs": [],
   "source": [
    "from openai import OpenAI\n",
    "client = OpenAI(api_key='sk-proj-VBGnIQp6Ymy5tCEhhgjoT3BlbkFJPv9cpTLGXvfz4FvapmtH')\n",
    "response = client.chat.completions.create(\n",
    "    model='gpt-4-turbo-preview',\n",
    "    messages=[{\"role\":\"user\",\"content\":\"is it too late to become pro skateboarder?I'm aged 35.\"}]\n",
    ")\n"
   ]
  },
  {
   "cell_type": "code",
   "execution_count": 18,
   "metadata": {},
   "outputs": [
    {
     "data": {
      "text/plain": [
       "\"Becoming a professional skateboarder at the age of 35 is a challenge, but not impossible. The world of skateboarding typically celebrates youth, as younger athletes usually have a longer time to develop their skills, take risks, and recover from injuries. However, the definition of success in skateboarding can vary, and there are different ways you can immerse yourself in the skateboarding community at a professional level.\\n\\nHere are some factors to consider and steps you might take:\\n\\n### 1. **Physical Fitness:**\\nAt 35, maintaining peak physical condition and flexibility is crucial to progress in skateboarding. Focus on regular exercise, stretching, and perhaps yoga to improve your balance and flexibility.\\n\\n### 2. **Skill Level:**\\nAssess your current level of skill. Progress in skateboarding requires consistent practice and a willingness to learn and attempt new tricks. If you're starting or are at an intermediate level, devote significant time to practice.\\n\\n### 3. **Learning Curve:**\\nBe realistic about the learning curve and the time investment required. Skateboarding skills are acquired over years of consistent practice. Set achievable goals and be patient with your progress.\\n\\n### 4. **Networking and Community:**\\nImmerse yourself in the skateboarding community. Attend events, competitions, and get to know other skateboarders and sponsors. Networking is crucial in the world of professional sports.\\n\\n### 5. **Niche Areas:**\\nConsider focusing on niche areas of skateboarding that might not require the same level of aerial acrobatics or intense physical risk as street or vert skateboarding. For example, longboarding or cruising can offer paths to professional involvement without focusing on extreme tricks.\\n\\n### 6. **Other Professional Avenues:**\\nProfessional involvement in skateboarding isn’t limited to competing. You could look into coaching, brand representation, skateboarding event management, or starting a related business. Your life experience and professional skills can be invaluable in these areas.\\n\\n### 7. **Inspiration:**\\nLook for stories of individuals who found success in sports at later stages in life. While rare, they do exist and can provide motivation and insight into pathways to success.\\n\\n### 8. **Health and Safety:**\\nPrioritize safety and care in your practice to prevent injuries. As the body ages, recovery times can lengthen, so wearing protective gear and listening to your body is essential.\\n\\n### Conclusion:\\nWhile becoming a pro skateboarder at 35 is undeniably challenging, it’s not necessarily too late. Your journey may look different from younger skateboarders, and reaching the upper echelons of professional competition may be difficult, but there are multiple ways to engage with skateboarding professionally. Success is a personal definition, and if you have a passion for skateboarding, pursuing it in some form is always worthwhile.\""
      ]
     },
     "execution_count": 18,
     "metadata": {},
     "output_type": "execute_result"
    }
   ],
   "source": [
    "response.choices[0].message.content"
   ]
  },
  {
   "cell_type": "code",
   "execution_count": null,
   "metadata": {},
   "outputs": [],
   "source": []
  }
 ],
 "metadata": {
  "kernelspec": {
   "display_name": ".venv",
   "language": "python",
   "name": "python3"
  },
  "language_info": {
   "codemirror_mode": {
    "name": "ipython",
    "version": 3
   },
   "file_extension": ".py",
   "mimetype": "text/x-python",
   "name": "python",
   "nbconvert_exporter": "python",
   "pygments_lexer": "ipython3",
   "version": "3.11.0b4"
  }
 },
 "nbformat": 4,
 "nbformat_minor": 2
}
