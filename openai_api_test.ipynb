{
 "cells": [
  {
   "cell_type": "code",
   "execution_count": 2,
   "metadata": {},
   "outputs": [],
   "source": [
    "import os\n",
    "api_key=os.getenv(\"OPENAI_API_KEY\")"
   ]
  },
  {
   "cell_type": "code",
   "execution_count": 3,
   "metadata": {},
   "outputs": [],
   "source": [
    "from openai import OpenAI\n",
    "client = OpenAI(api_key=api_key)\n",
    "response = client.chat.completions.create(\n",
    "    model='gpt-4-turbo-preview',\n",
    "    messages=[{\"role\":\"user\",\"content\":\"is it too late to become pro skateboarder?I'm aged 35.\"}]\n",
    ")\n"
   ]
  },
  {
   "cell_type": "code",
   "execution_count": 4,
   "metadata": {},
   "outputs": [
    {
     "data": {
      "text/plain": [
       "\"Becoming a pro skateboarder at 35 is challenging, but not impossible. It requires a significant amount of dedication, physical fitness, and skill development. Here are some factors to consider if you are looking to pursue skateboarding professionally at a later age:\\n\\n### 1. Physical Fitness\\nAt 35, your body may not recover as quickly as it did when you were younger. It's crucial to maintain excellent physical condition and adopt a strict regimen of strength, flexibility, and aerobic exercises. This will help reduce injury risks and improve your performance.\\n\\n### 2. Skill Level\\nBecoming a pro skateboarder requires a high skill level that typically comes from years of practice. You'll need to dedicate a considerable amount of time to learn and master various skateboarding tricks and techniques. This involves regular practice, which can be physically demanding.\\n\\n### 3. Competition\\nThe skateboarding industry is highly competitive, with many young talents emerging every year. Standing out and getting noticed by sponsors or in competitions can be challenging. You'll need to bring something unique to the table or achieve a high skill level to compete with younger skateboarders.\\n\\n### 4. Sponsorships and Financial Stability\\nSponsorships are a significant aspect of being a pro skateboarder. At 35, you might have financial responsibilities that could make it difficult to focus solely on skateboarding without a steady source of income. Securing sponsors requires not just skill but also the ability to market yourself and connect with brands.\\n\\n### 5. Community and Exposure\\nImmersing yourself in the skateboarding community and gaining exposure is crucial. This involves participating in skateboarding events, competitions, and building a strong social media presence. Networking with other skateboarders and industry stakeholders can open up opportunities.\\n\\n### 6. Realistic Goals\\nSetting realistic goals and expectations is essential. While you may face more challenges than younger skateboarders, success in skateboarding can take many forms. It might mean achieving personal milestones, contributing to the skateboarding community, or even starting a business related to the sport.\\n\\n### 7. Passion and Perseverance\\nYour passion for skateboarding and willingness to persevere through challenges will be your most significant assets. If you genuinely love the sport and are committed to improving, your journey in skateboarding can still be fulfilling, regardless of whether you reach professional status.\\n\\nIn summary, while becoming a pro skateboarder at 35 is a formidable challenge, it's not entirely out of reach if you have the determination, skill, and are willing to put in the hard work. Remember, skateboarding is as much about personal expression and enjoyment as it is about professional achievement.\""
      ]
     },
     "execution_count": 4,
     "metadata": {},
     "output_type": "execute_result"
    }
   ],
   "source": [
    "response.choices[0].message.content"
   ]
  },
  {
   "cell_type": "code",
   "execution_count": null,
   "metadata": {},
   "outputs": [],
   "source": []
  }
 ],
 "metadata": {
  "kernelspec": {
   "display_name": ".venv",
   "language": "python",
   "name": "python3"
  },
  "language_info": {
   "codemirror_mode": {
    "name": "ipython",
    "version": 3
   },
   "file_extension": ".py",
   "mimetype": "text/x-python",
   "name": "python",
   "nbconvert_exporter": "python",
   "pygments_lexer": "ipython3",
   "version": "3.11.0b4"
  }
 },
 "nbformat": 4,
 "nbformat_minor": 2
}
